{
  "cells": [
    {
      "cell_type": "code",
      "execution_count": null,
      "id": "vertical-stuff",
      "metadata": {
        "id": "vertical-stuff",
        "outputId": "64879720-9272-4357-cccc-974d373c0bbc"
      },
      "outputs": [
        {
          "name": "stdout",
          "output_type": "stream",
          "text": [
            "PyTorch Version:  1.11.0+cu102\n",
            "Torchvision Version:  0.12.0+cu102\n"
          ]
        }
      ],
      "source": [
        "import os\n",
        "# os.environ[\"CUDA_VISIBLE_DEVICES\"]=\"3\"\n",
        "from __future__ import print_function\n",
        "from __future__ import division\n",
        "import torch\n",
        "import torch.nn as nn\n",
        "import torch.optim as optim\n",
        "import numpy as np\n",
        "import torchvision\n",
        "from torchvision import datasets, models, transforms\n",
        "import matplotlib.pyplot as plt\n",
        "from tqdm.notebook import tqdm\n",
        "import time\n",
        "import copy\n",
        "from random import randint\n",
        "print(\"PyTorch Version: \",torch.__version__)\n",
        "print(\"Torchvision Version: \",torchvision.__version__)"
      ]
    },
    {
      "cell_type": "code",
      "execution_count": null,
      "id": "accurate-employment",
      "metadata": {
        "id": "accurate-employment"
      },
      "outputs": [],
      "source": [
        "from pytorch_metric_learning.losses import ArcFaceLoss"
      ]
    },
    {
      "cell_type": "code",
      "execution_count": 1,
      "id": "interior-lighter",
      "metadata": {
        "id": "interior-lighter"
      },
      "outputs": [],
      "source": [
        "import wandb\n",
        "wandb.login()"
      ]
    },
    {
      "cell_type": "code",
      "execution_count": null,
      "id": "continued-berry",
      "metadata": {
        "id": "continued-berry"
      },
      "outputs": [],
      "source": [
        "# src: (Official Pytorch tutorials)\n",
        "# https://pytorch.org/tutorials/beginner/finetuning_torchvision_models_tutorial.html\n",
        "\n",
        "# it's just my custom division into validation and train\n",
        "val_sub_dir_name = 'my_val'\n",
        "train_sub_dir_name = 'my_train'\n",
        "\n",
        "data_dir = \"../CASIA-HWDB_Train\"\n",
        "\n",
        "# Models to choose from [resnet, alexnet, vgg, squeezenet, densenet, inception]\n",
        "model_name = \"resnet\"\n",
        "\n",
        "# Number of classes in the dataset\n",
        "num_classes = 7330\n",
        "\n",
        "# Batch size for training (change depending on how much memory you have)\n",
        "batch_size = 64\n",
        "\n",
        "# Number of epochs to train for\n",
        "num_epochs = 150\n",
        "\n",
        "# Flag for feature extracting. When False, we finetune the whole model,\n",
        "#   when True we only update the reshaped layer params\n",
        "feature_extract = True"
      ]
    },
    {
      "cell_type": "code",
      "execution_count": null,
      "id": "solar-massage",
      "metadata": {
        "id": "solar-massage"
      },
      "outputs": [],
      "source": [
        "!mkdir task2_resnet18_v2_checkpoints_run3"
      ]
    },
    {
      "cell_type": "code",
      "execution_count": null,
      "id": "labeled-chicken",
      "metadata": {
        "id": "labeled-chicken",
        "outputId": "68789768-1a40-40bc-e6a2-e82367cf9096"
      },
      "outputs": [
        {
          "name": "stdout",
          "output_type": "stream",
          "text": [
            "ResNet(\n",
            "  (conv1): Conv2d(3, 64, kernel_size=(7, 7), stride=(2, 2), padding=(3, 3), bias=False)\n",
            "  (bn1): BatchNorm2d(64, eps=1e-05, momentum=0.1, affine=True, track_running_stats=True)\n",
            "  (relu): ReLU(inplace=True)\n",
            "  (maxpool): MaxPool2d(kernel_size=3, stride=2, padding=1, dilation=1, ceil_mode=False)\n",
            "  (layer1): Sequential(\n",
            "    (0): BasicBlock(\n",
            "      (conv1): Conv2d(64, 64, kernel_size=(3, 3), stride=(1, 1), padding=(1, 1), bias=False)\n",
            "      (bn1): BatchNorm2d(64, eps=1e-05, momentum=0.1, affine=True, track_running_stats=True)\n",
            "      (relu): ReLU(inplace=True)\n",
            "      (conv2): Conv2d(64, 64, kernel_size=(3, 3), stride=(1, 1), padding=(1, 1), bias=False)\n",
            "      (bn2): BatchNorm2d(64, eps=1e-05, momentum=0.1, affine=True, track_running_stats=True)\n",
            "    )\n",
            "    (1): BasicBlock(\n",
            "      (conv1): Conv2d(64, 64, kernel_size=(3, 3), stride=(1, 1), padding=(1, 1), bias=False)\n",
            "      (bn1): BatchNorm2d(64, eps=1e-05, momentum=0.1, affine=True, track_running_stats=True)\n",
            "      (relu): ReLU(inplace=True)\n",
            "      (conv2): Conv2d(64, 64, kernel_size=(3, 3), stride=(1, 1), padding=(1, 1), bias=False)\n",
            "      (bn2): BatchNorm2d(64, eps=1e-05, momentum=0.1, affine=True, track_running_stats=True)\n",
            "    )\n",
            "  )\n",
            "  (layer2): Sequential(\n",
            "    (0): BasicBlock(\n",
            "      (conv1): Conv2d(64, 128, kernel_size=(3, 3), stride=(2, 2), padding=(1, 1), bias=False)\n",
            "      (bn1): BatchNorm2d(128, eps=1e-05, momentum=0.1, affine=True, track_running_stats=True)\n",
            "      (relu): ReLU(inplace=True)\n",
            "      (conv2): Conv2d(128, 128, kernel_size=(3, 3), stride=(1, 1), padding=(1, 1), bias=False)\n",
            "      (bn2): BatchNorm2d(128, eps=1e-05, momentum=0.1, affine=True, track_running_stats=True)\n",
            "      (downsample): Sequential(\n",
            "        (0): Conv2d(64, 128, kernel_size=(1, 1), stride=(2, 2), bias=False)\n",
            "        (1): BatchNorm2d(128, eps=1e-05, momentum=0.1, affine=True, track_running_stats=True)\n",
            "      )\n",
            "    )\n",
            "    (1): BasicBlock(\n",
            "      (conv1): Conv2d(128, 128, kernel_size=(3, 3), stride=(1, 1), padding=(1, 1), bias=False)\n",
            "      (bn1): BatchNorm2d(128, eps=1e-05, momentum=0.1, affine=True, track_running_stats=True)\n",
            "      (relu): ReLU(inplace=True)\n",
            "      (conv2): Conv2d(128, 128, kernel_size=(3, 3), stride=(1, 1), padding=(1, 1), bias=False)\n",
            "      (bn2): BatchNorm2d(128, eps=1e-05, momentum=0.1, affine=True, track_running_stats=True)\n",
            "    )\n",
            "  )\n",
            "  (layer3): Sequential(\n",
            "    (0): BasicBlock(\n",
            "      (conv1): Conv2d(128, 256, kernel_size=(3, 3), stride=(2, 2), padding=(1, 1), bias=False)\n",
            "      (bn1): BatchNorm2d(256, eps=1e-05, momentum=0.1, affine=True, track_running_stats=True)\n",
            "      (relu): ReLU(inplace=True)\n",
            "      (conv2): Conv2d(256, 256, kernel_size=(3, 3), stride=(1, 1), padding=(1, 1), bias=False)\n",
            "      (bn2): BatchNorm2d(256, eps=1e-05, momentum=0.1, affine=True, track_running_stats=True)\n",
            "      (downsample): Sequential(\n",
            "        (0): Conv2d(128, 256, kernel_size=(1, 1), stride=(2, 2), bias=False)\n",
            "        (1): BatchNorm2d(256, eps=1e-05, momentum=0.1, affine=True, track_running_stats=True)\n",
            "      )\n",
            "    )\n",
            "    (1): BasicBlock(\n",
            "      (conv1): Conv2d(256, 256, kernel_size=(3, 3), stride=(1, 1), padding=(1, 1), bias=False)\n",
            "      (bn1): BatchNorm2d(256, eps=1e-05, momentum=0.1, affine=True, track_running_stats=True)\n",
            "      (relu): ReLU(inplace=True)\n",
            "      (conv2): Conv2d(256, 256, kernel_size=(3, 3), stride=(1, 1), padding=(1, 1), bias=False)\n",
            "      (bn2): BatchNorm2d(256, eps=1e-05, momentum=0.1, affine=True, track_running_stats=True)\n",
            "    )\n",
            "  )\n",
            "  (layer4): Sequential(\n",
            "    (0): BasicBlock(\n",
            "      (conv1): Conv2d(256, 512, kernel_size=(3, 3), stride=(2, 2), padding=(1, 1), bias=False)\n",
            "      (bn1): BatchNorm2d(512, eps=1e-05, momentum=0.1, affine=True, track_running_stats=True)\n",
            "      (relu): ReLU(inplace=True)\n",
            "      (conv2): Conv2d(512, 512, kernel_size=(3, 3), stride=(1, 1), padding=(1, 1), bias=False)\n",
            "      (bn2): BatchNorm2d(512, eps=1e-05, momentum=0.1, affine=True, track_running_stats=True)\n",
            "      (downsample): Sequential(\n",
            "        (0): Conv2d(256, 512, kernel_size=(1, 1), stride=(2, 2), bias=False)\n",
            "        (1): BatchNorm2d(512, eps=1e-05, momentum=0.1, affine=True, track_running_stats=True)\n",
            "      )\n",
            "    )\n",
            "    (1): BasicBlock(\n",
            "      (conv1): Conv2d(512, 512, kernel_size=(3, 3), stride=(1, 1), padding=(1, 1), bias=False)\n",
            "      (bn1): BatchNorm2d(512, eps=1e-05, momentum=0.1, affine=True, track_running_stats=True)\n",
            "      (relu): ReLU(inplace=True)\n",
            "      (conv2): Conv2d(512, 512, kernel_size=(3, 3), stride=(1, 1), padding=(1, 1), bias=False)\n",
            "      (bn2): BatchNorm2d(512, eps=1e-05, momentum=0.1, affine=True, track_running_stats=True)\n",
            "    )\n",
            "  )\n",
            "  (avgpool): AdaptiveAvgPool2d(output_size=(1, 1))\n",
            "  (fc): Identity()\n",
            ")\n",
            "ArcFaceLoss(\n",
            "  (distance): CosineSimilarity()\n",
            "  (reducer): MeanReducer()\n",
            "  (cross_entropy): CrossEntropyLoss()\n",
            ")\n"
          ]
        }
      ],
      "source": [
        "def train_model(model, dataloaders, emb_loss, optimizer, emb_loss_optimizer, num_epochs=25):\n",
        "    wandb.init()\n",
        "\n",
        "    since = time.time()\n",
        "\n",
        "    val_acc_history = []\n",
        "\n",
        "    best_model_wts = copy.deepcopy(model.state_dict())\n",
        "    best_acc = 0.0\n",
        "    epoch_acc = 0.0\n",
        "    for epoch in range(num_epochs):\n",
        "        torch.save(model.state_dict(), f'task2_resnet18_v2_checkpoints_run3/epoch_{epoch}_acc_{(epoch_acc*100.0):.2f}.pth')\n",
        "        torch.save(emb_loss.state_dict(), f'task2_resnet18_v2_checkpoints_run3/epoch_{epoch}_acc_{(epoch_acc*100.0):.2f}.emb_loss.pth')\n",
        "        \n",
        "        print('Epoch {}/{}'.format(epoch, num_epochs - 1))\n",
        "        print('-' * 10)\n",
        "\n",
        "        # Each epoch has a training and validation phase\n",
        "        for phase in ['train', 'val']:\n",
        "            if phase == 'train':\n",
        "                model.train()  # Set model to training mode\n",
        "                emb_loss.train()\n",
        "            else:\n",
        "                model.eval()   # Set model to evaluate mode\n",
        "                emb_loss.eval()\n",
        "\n",
        "            running_loss = 0.0\n",
        "            running_corrects = 0\n",
        "\n",
        "            # Iterate over data.\n",
        "            for inputs, labels in tqdm(dataloaders[phase]):\n",
        "                inputs = inputs.to(device)\n",
        "                labels = labels.to(device)\n",
        "\n",
        "                # zero the parameter gradients\n",
        "                optimizer.zero_grad()\n",
        "                emb_loss_optimizer.zero_grad()\n",
        "\n",
        "                # forward\n",
        "                # track history if only in train\n",
        "                with torch.set_grad_enabled(phase == 'train'):\n",
        "                    embeddings = model(inputs)\n",
        "                    \n",
        "                    loss = emb_loss(embeddings=embeddings, labels=labels)\n",
        "                    \n",
        "                    with torch.no_grad():\n",
        "                        logits = emb_loss.get_logits(embeddings=embeddings)\n",
        "                        _, preds = torch.max(logits, 1)\n",
        "\n",
        "                    # backward + optimize only if in training phase\n",
        "                    if phase == 'train':\n",
        "                        loss.backward()\n",
        "                        optimizer.step()\n",
        "                        emb_loss_optimizer.step()\n",
        "\n",
        "                # statistics\n",
        "                running_loss += loss.item() * inputs.size(0)\n",
        "                running_corrects += torch.sum(preds == labels.data)\n",
        "                \n",
        "                wandb.log({\n",
        "                    f\"{phase}_batch_loss\": loss.item(),\n",
        "                    f\"{phase}_batch_accuracy\": torch.sum(preds == labels.data).item() / len(preds),\n",
        "                    f\"{phase}_epoch\": epoch,\n",
        "                })\n",
        "\n",
        "            epoch_loss = running_loss / len(dataloaders[phase].dataset)\n",
        "            epoch_acc = running_corrects.double() / len(dataloaders[phase].dataset)\n",
        "\n",
        "            print('{} Loss: {:.4f} Acc: {:.4f}'.format(phase, epoch_loss, epoch_acc))\n",
        "\n",
        "            # deep copy the model\n",
        "            if phase == 'val' and epoch_acc > best_acc:\n",
        "                best_acc = epoch_acc\n",
        "                best_model_wts = copy.deepcopy(model.state_dict())\n",
        "            if phase == 'val':\n",
        "                val_acc_history.append(epoch_acc)\n",
        "\n",
        "        print()\n",
        "\n",
        "    time_elapsed = time.time() - since\n",
        "    print('Training complete in {:.0f}m {:.0f}s'.format(time_elapsed // 60, time_elapsed % 60))\n",
        "    print('Best val Acc: {:4f}'.format(best_acc))\n",
        "\n",
        "    # load best model weights\n",
        "    model.load_state_dict(best_model_wts)\n",
        "    return model, val_acc_history\n",
        "\n",
        "\n",
        "# def set_parameter_requires_grad(model, feature_extracting):\n",
        "#     if feature_extracting:\n",
        "#         for param in model.parameters():\n",
        "#             param.requires_grad = False\n",
        "            \n",
        "def set_parameter_requires_grad(model, feature_extracting, unfreeze_from=None):\n",
        "    if feature_extracting:\n",
        "        for param in model.parameters():\n",
        "            param.requires_grad = False\n",
        "    if unfreeze_from is not None:\n",
        "        assert isinstance(unfreeze_from, int)\n",
        "        for ix, child in enumerate(model.children()):\n",
        "            if ix > unfreeze_from:\n",
        "                for param in child.parameters():\n",
        "                    param.requires_grad = True\n",
        "            \n",
        "def initialize_model(model_name, num_classes, feature_extract, use_pretrained=True):\n",
        "    # Initialize these variables which will be set in this if statement. Each of these\n",
        "    #   variables is model specific.\n",
        "    model_ft = None\n",
        "    input_size = 0\n",
        "\n",
        "    if model_name == \"resnet\":\n",
        "        \"\"\" Resnet18\n",
        "        \"\"\"\n",
        "        model_ft = models.resnet18(pretrained=use_pretrained)\n",
        "        set_parameter_requires_grad(model_ft, feature_extract, unfreeze_from=4)\n",
        "        num_ftrs = model_ft.fc.in_features\n",
        "        model_ft.fc = nn.Identity()\n",
        "        input_size = 224\n",
        "    else:\n",
        "        print(\"Invalid model name, exiting...\")\n",
        "        exit()\n",
        "\n",
        "    return model_ft, input_size\n",
        "\n",
        "# Initialize the model for this run\n",
        "model_ft, input_size = initialize_model(model_name, num_classes, feature_extract, use_pretrained=True)\n",
        "arcface_loss = ArcFaceLoss(num_classes=num_classes, embedding_size=512)\n",
        "\n",
        "# Print the model we just instantiated\n",
        "print(model_ft)\n",
        "print(arcface_loss)"
      ]
    },
    {
      "cell_type": "code",
      "execution_count": null,
      "id": "ready-mixer",
      "metadata": {
        "id": "ready-mixer",
        "outputId": "7500c707-d53f-4720-e8f5-9da90f9a7e95"
      },
      "outputs": [
        {
          "name": "stdout",
          "output_type": "stream",
          "text": [
            "Initializing Datasets and Dataloaders...\n",
            "cuda\n"
          ]
        }
      ],
      "source": [
        "data_transforms = {\n",
        "    'train': transforms.Compose([\n",
        "        transforms.Pad(100, 255),\n",
        "        transforms.RandomRotation(15, fill=255),\n",
        "        transforms.CenterCrop((224, 224)),\n",
        "        transforms.ToTensor(),\n",
        "        transforms.Normalize([0.485, 0.456, 0.406], [0.229, 0.224, 0.225])\n",
        "    ]),\n",
        "    'val': transforms.Compose([\n",
        "        transforms.Pad(100, 255),\n",
        "        transforms.CenterCrop((224, 224)),\n",
        "        transforms.ToTensor(),\n",
        "        transforms.Normalize([0.485, 0.456, 0.406], [0.229, 0.224, 0.225])\n",
        "    ]),\n",
        "}\n",
        "\n",
        "print(\"Initializing Datasets and Dataloaders...\")\n",
        "\n",
        "# Create training and validation datasets\n",
        "image_datasets = {\n",
        "    'train': \n",
        "        datasets.ImageFolder(\n",
        "            os.path.join(data_dir, train_sub_dir_name)\n",
        "            , data_transforms['train']\n",
        "        ), \n",
        "    'val': \n",
        "        datasets.ImageFolder(\n",
        "            os.path.join(data_dir, val_sub_dir_name)\n",
        "            , data_transforms['val']\n",
        "        ) \n",
        "}\n",
        "dtset_val_not_transform = datasets.ImageFolder(os.path.join(data_dir, val_sub_dir_name))\n",
        "dtset_train_not_transform = datasets.ImageFolder(os.path.join(data_dir, train_sub_dir_name))\n",
        "\n",
        "# Create training and validation dataloaders\n",
        "dataloaders_dict = {\n",
        "    x: torch.utils.data.DataLoader(image_datasets[x], batch_size=batch_size, shuffle=True, num_workers=4) \n",
        "    for x in ['train', 'val']\n",
        "}\n",
        "\n",
        "# Detect if we have a GPU available\n",
        "device = torch.device(\"cuda\" if torch.cuda.is_available() else \"cpu\")\n",
        "print(device)"
      ]
    },
    {
      "cell_type": "code",
      "execution_count": null,
      "id": "comparative-explanation",
      "metadata": {
        "id": "comparative-explanation",
        "outputId": "b9ffc0f0-7428-46f6-c60e-06cc7997b24a"
      },
      "outputs": [
        {
          "name": "stderr",
          "output_type": "stream",
          "text": [
            "Clipping input data to the valid range for imshow with RGB data ([0..1] for floats or [0..255] for integers).\n"
          ]
        },
        {
          "data": {
            "image/png": "[encoded data removed]",
            "text/plain": [
              "<Figure size 432x288 with 2 Axes>"
            ]
          },
          "metadata": {
            "needs_background": "light"
          },
          "output_type": "display_data"
        }
      ],
      "source": [
        "# image_datasets['val'][0][0].shape\n",
        "idx = randint(0, len(image_datasets['train']) - 1)\n",
        "f, axarr = plt.subplots(1,2)\n",
        "axarr[0].imshow(image_datasets['train'][idx][0].permute(1, 2, 0))\n",
        "axarr[1].imshow(dtset_train_not_transform[idx][0])\n",
        "plt.show()"
      ]
    },
    {
      "cell_type": "code",
      "execution_count": null,
      "id": "immediate-digest",
      "metadata": {
        "id": "immediate-digest",
        "outputId": "65dcd1b6-7445-478c-e103-4ffd833ffe7f"
      },
      "outputs": [
        {
          "name": "stdout",
          "output_type": "stream",
          "text": [
            "Params to learn:\n",
            "\t layer2.0.conv1.weight\n",
            "\t layer2.0.bn1.weight\n",
            "\t layer2.0.bn1.bias\n",
            "\t layer2.0.conv2.weight\n",
            "\t layer2.0.bn2.weight\n",
            "\t layer2.0.bn2.bias\n",
            "\t layer2.0.downsample.0.weight\n",
            "\t layer2.0.downsample.1.weight\n",
            "\t layer2.0.downsample.1.bias\n",
            "\t layer2.1.conv1.weight\n",
            "\t layer2.1.bn1.weight\n",
            "\t layer2.1.bn1.bias\n",
            "\t layer2.1.conv2.weight\n",
            "\t layer2.1.bn2.weight\n",
            "\t layer2.1.bn2.bias\n",
            "\t layer3.0.conv1.weight\n",
            "\t layer3.0.bn1.weight\n",
            "\t layer3.0.bn1.bias\n",
            "\t layer3.0.conv2.weight\n",
            "\t layer3.0.bn2.weight\n",
            "\t layer3.0.bn2.bias\n",
            "\t layer3.0.downsample.0.weight\n",
            "\t layer3.0.downsample.1.weight\n",
            "\t layer3.0.downsample.1.bias\n",
            "\t layer3.1.conv1.weight\n",
            "\t layer3.1.bn1.weight\n",
            "\t layer3.1.bn1.bias\n",
            "\t layer3.1.conv2.weight\n",
            "\t layer3.1.bn2.weight\n",
            "\t layer3.1.bn2.bias\n",
            "\t layer4.0.conv1.weight\n",
            "\t layer4.0.bn1.weight\n",
            "\t layer4.0.bn1.bias\n",
            "\t layer4.0.conv2.weight\n",
            "\t layer4.0.bn2.weight\n",
            "\t layer4.0.bn2.bias\n",
            "\t layer4.0.downsample.0.weight\n",
            "\t layer4.0.downsample.1.weight\n",
            "\t layer4.0.downsample.1.bias\n",
            "\t layer4.1.conv1.weight\n",
            "\t layer4.1.bn1.weight\n",
            "\t layer4.1.bn1.bias\n",
            "\t layer4.1.conv2.weight\n",
            "\t layer4.1.bn2.weight\n",
            "\t layer4.1.bn2.bias\n"
          ]
        }
      ],
      "source": [
        "device=\"cuda\"\n",
        "model_ft = model_ft.to(device)\n",
        "arcface_loss = arcface_loss.to(device)\n",
        "\n",
        "# Gather the parameters to be optimized/updated in this run. If we are\n",
        "#  finetuning we will be updating all parameters. However, if we are\n",
        "#  doing feature extract method, we will only update the parameters\n",
        "#  that we have just initialized, i.e. the parameters with requires_grad\n",
        "#  is True.\n",
        "params_to_update = model_ft.parameters()\n",
        "print(\"Params to learn:\")\n",
        "if feature_extract:\n",
        "    params_to_update = []\n",
        "    for name,param in model_ft.named_parameters():\n",
        "        if param.requires_grad == True:\n",
        "            params_to_update.append(param)\n",
        "            print(\"\\t\",name)\n",
        "else:\n",
        "    for name,param in model_ft.named_parameters():\n",
        "        if param.requires_grad == True:\n",
        "            print(\"\\t\",name)\n",
        "\n",
        "# Observe that all parameters are being optimized\n",
        "optimizer_ft = optim.Adam(params_to_update, lr=1e-3)\n",
        "arcface_loss_optimizer = optim.Adam(arcface_loss.parameters(), lr=5e-4)"
      ]
    },
    {
      "cell_type": "code",
      "execution_count": null,
      "id": "mounted-hawaiian",
      "metadata": {
        "id": "mounted-hawaiian",
        "outputId": "299f140b-9f8e-4d31-fb9e-1d196c578d66"
      },
      "outputs": [
        {
          "data": {
            "text/plain": [
              "<All keys matched successfully>"
            ]
          },
          "execution_count": 11,
          "metadata": {},
          "output_type": "execute_result"
        }
      ],
      "source": [
        "# model_ft.load_state_dict(torch.load('task2_resnet18_v2_checkpoints_run2/epoch_1_acc_88.97.pth'), strict=False)\n",
        "# arcface_loss.load_state_dict(torch.load(\"task2_resnet18_v2_checkpoints_run2/epoch_1_acc_88.97.emb_loss.pth\"), strict=True)"
      ]
    },
    {
      "cell_type": "code",
      "execution_count": null,
      "id": "musical-burns",
      "metadata": {
        "id": "musical-burns",
        "outputId": "09243111-7ba5-4d8b-9205-ef53ca85ecfe"
      },
      "outputs": [
        {
          "data": {
            "text/plain": [
              "<All keys matched successfully>"
            ]
          },
          "execution_count": 12,
          "metadata": {},
          "output_type": "execute_result"
        }
      ],
      "source": [
        "model_ft.load_state_dict(torch.load('epoch_15_acc_95.39.pth'), strict=True)\n",
        "arcface_loss.load_state_dict(torch.load(\"epoch_15_acc_95.39.emb_loss.pth\"), strict=True)"
      ]
    },
    {
      "cell_type": "code",
      "execution_count": null,
      "id": "competent-night",
      "metadata": {
        "id": "competent-night"
      },
      "outputs": [],
      "source": [
        "model_ft = model_ft.to(device)\n",
        "arcface_loss = arcface_loss.to(device)"
      ]
    },
    {
      "cell_type": "code",
      "execution_count": 2,
      "id": "surgical-detection",
      "metadata": {
        "scrolled": false,
        "id": "surgical-detection"
      },
      "outputs": [],
      "source": [
        "# Setup the loss fxn\n",
        "# criterion = nn.CrossEntropyLoss()\n",
        "\n",
        "# Train and evaluate\n",
        "model_ft, hist = train_model(model_ft, dataloaders_dict, arcface_loss, optimizer_ft, arcface_loss_optimizer, num_epochs=num_epochs)\n",
        "\n",
        "# P.S. this cell was restarted several times, so in total it had > 15 epochs"
      ]
    },
    {
      "cell_type": "code",
      "execution_count": null,
      "id": "suspended-savannah",
      "metadata": {
        "id": "suspended-savannah"
      },
      "outputs": [],
      "source": [
        ""
      ]
    },
    {
      "cell_type": "markdown",
      "id": "fossil-oracle",
      "metadata": {
        "id": "fossil-oracle"
      },
      "source": [
        "### Запускаем чтобы узнать результаты на тесте"
      ]
    },
    {
      "cell_type": "code",
      "execution_count": null,
      "id": "waiting-aaron",
      "metadata": {
        "id": "waiting-aaron"
      },
      "outputs": [],
      "source": [
        "\n",
        "final_test_dataset = datasets.ImageFolder(\n",
        "            '/home/nojusupov/Test/'\n",
        "            , data_transforms['val']\n",
        ") "
      ]
    },
    {
      "cell_type": "code",
      "execution_count": null,
      "id": "wound-literacy",
      "metadata": {
        "id": "wound-literacy"
      },
      "outputs": [],
      "source": [
        "final_test_dataloader = \\\n",
        "    torch.utils.data.DataLoader(final_test_dataset, batch_size=batch_size, shuffle=True, num_workers=4) "
      ]
    },
    {
      "cell_type": "code",
      "execution_count": null,
      "id": "imposed-classroom",
      "metadata": {
        "colab": {
          "referenced_widgets": [
            "28e3b208b6f544bbadd4dcb1532d0809"
          ]
        },
        "id": "imposed-classroom",
        "outputId": "89f1e473-53da-4b94-f6d9-40d4da39e135"
      },
      "outputs": [
        {
          "data": {
            "application/vnd.jupyter.widget-view+json": {
              "model_id": "28e3b208b6f544bbadd4dcb1532d0809",
              "version_major": 2,
              "version_minor": 0
            },
            "text/plain": [
              "  0%|          | 0/776523 [00:00<?, ?it/s]"
            ]
          },
          "metadata": {},
          "output_type": "display_data"
        }
      ],
      "source": [
        "res = []\n",
        "idx_to_class = {idx:class_ for class_, idx in image_datasets['train'].class_to_idx.items()}\n",
        "\n",
        "model_ft.eval()\n",
        "arcface_loss.eval()\n",
        "\n",
        "with torch.no_grad():\n",
        "    for idx, (filename, _) in tqdm(list(enumerate(final_test_dataset.imgs))):\n",
        "        im = final_test_dataset[idx][0]\n",
        "        embeddings = model_ft(im.unsqueeze(0).to(device))\n",
        "        logits = arcface_loss.get_logits(embeddings=embeddings)\n",
        "        _, preds = torch.max(logits, 1)\n",
        "        class_ = idx_to_class[preds.item()]\n",
        "        res.append(\n",
        "            filename.replace('/home/nojusupov/Test/,/', 'Test/UNKNOWN/') + ' ' + class_\n",
        "        )"
      ]
    },
    {
      "cell_type": "code",
      "execution_count": null,
      "id": "damaged-operations",
      "metadata": {
        "id": "damaged-operations",
        "outputId": "bb4a2f3b-d742-4bec-f6c7-630987d573e6"
      },
      "outputs": [
        {
          "data": {
            "text/plain": [
              "'Test/UNKNOWN/99999.png 尹'"
            ]
          },
          "execution_count": 26,
          "metadata": {},
          "output_type": "execute_result"
        }
      ],
      "source": [
        "res[-1]"
      ]
    },
    {
      "cell_type": "code",
      "execution_count": null,
      "id": "designing-joseph",
      "metadata": {
        "colab": {
          "referenced_widgets": [
            "2fb45ba75d724bfb8162504ec8eb2d3a"
          ]
        },
        "id": "designing-joseph",
        "outputId": "55493a84-2031-4508-a18c-4fdd98a741bb"
      },
      "outputs": [
        {
          "data": {
            "application/vnd.jupyter.widget-view+json": {
              "model_id": "2fb45ba75d724bfb8162504ec8eb2d3a",
              "version_major": 2,
              "version_minor": 0
            },
            "text/plain": [
              "  0%|          | 0/776523 [00:00<?, ?it/s]"
            ]
          },
          "metadata": {},
          "output_type": "display_data"
        }
      ],
      "source": [
        "with open('/home/nojusupov/course_ocr/task2/pred_arcface.txt', 'wt') as f:\n",
        "    for el in tqdm(res):\n",
        "        f.write(el + '\\n')"
      ]
    },
    {
      "cell_type": "code",
      "execution_count": null,
      "id": "comprehensive-belgium",
      "metadata": {
        "id": "comprehensive-belgium",
        "outputId": "8b41fbc7-52d4-4786-b11f-aa71454444fb"
      },
      "outputs": [
        {
          "name": "stdout",
          "output_type": "stream",
          "text": [
            "Accuracy = 0.9338\n"
          ]
        }
      ],
      "source": [
        "from pathlib import Path\n",
        "\n",
        "def evaluate(gt_path, pred_path):\n",
        "    gt = dict()\n",
        "    with open(gt_path) as gt_f:\n",
        "        for line in gt_f:\n",
        "            name, cls = line.strip().split()\n",
        "            gt[name] = cls\n",
        "    \n",
        "    n_good = 0\n",
        "    n_all = len(gt)\n",
        "    with open(pred_path) as pred_f:\n",
        "        for line in pred_f:\n",
        "            name, cls = line.strip().split()\n",
        "            if cls == gt[name]:\n",
        "                n_good += 1\n",
        "    \n",
        "    return n_good / n_all\n",
        "\n",
        "\n",
        "def _run_evaluation():\n",
        "    base = Path('/home/nojusupov/course_ocr/task2')\n",
        "    gt_path = base / 'gt.txt'\n",
        "    pred_path = base / 'pred_arcface.txt'\n",
        "    score = evaluate(gt_path, pred_path)\n",
        "    print('Accuracy = {:1.4f}'.format(score))\n",
        "\n",
        "_run_evaluation()"
      ]
    },
    {
      "cell_type": "code",
      "execution_count": null,
      "id": "structured-company",
      "metadata": {
        "id": "structured-company",
        "outputId": "27e6d97e-0450-4eac-ddbb-14049c18f035"
      },
      "outputs": [
        {
          "name": "stderr",
          "output_type": "stream",
          "text": [
            "Clipping input data to the valid range for imshow with RGB data ([0..1] for floats or [0..255] for integers).\n"
          ]
        },
        {
          "name": "stdout",
          "output_type": "stream",
          "text": [
            "torch.Size([3, 224, 224])\n"
          ]
        },
        {
          "data": {
            "text/plain": [
              "(6697, '队')"
            ]
          },
          "execution_count": 35,
          "metadata": {},
          "output_type": "execute_result"
        },
        {
          "data": {
            "image/png": "[encoded data removed]",
            "text/plain": [
              "<Figure size 432x288 with 1 Axes>"
            ]
          },
          "metadata": {
            "needs_background": "light"
          },
          "output_type": "display_data"
        }
      ],
      "source": [
        "idx = randint(0, len(final_test_dataset) - 1)\n",
        "im = final_test_dataset[idx][0]\n",
        "plt.imshow(im.permute(1,2,0))\n",
        "print(im.shape)\n",
        "embeddings = model_ft(im.unsqueeze(0).to(device))\n",
        "logits = arcface_loss.get_logits(embeddings=embeddings)\n",
        "_, preds = torch.max(logits, 1)\n",
        "preds.item(), idx_to_class[preds.item()]"
      ]
    },
    {
      "cell_type": "code",
      "execution_count": null,
      "id": "tough-bleeding",
      "metadata": {
        "id": "tough-bleeding"
      },
      "outputs": [],
      "source": [
        ""
      ]
    }
  ],
  "metadata": {
    "kernelspec": {
      "display_name": "Python 3",
      "language": "python",
      "name": "python3"
    },
    "language_info": {
      "codemirror_mode": {
        "name": "ipython",
        "version": 3
      },
      "file_extension": ".py",
      "mimetype": "text/x-python",
      "name": "python",
      "nbconvert_exporter": "python",
      "pygments_lexer": "ipython3",
      "version": "3.8.10"
    },
    "colab": {
      "name": "task2-resnet18-pretrain-arcface",
      "provenance": []
    }
  },
  "nbformat": 4,
  "nbformat_minor": 5
}